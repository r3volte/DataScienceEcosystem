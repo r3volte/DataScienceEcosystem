{
 "cells": [
  {
   "cell_type": "markdown",
   "id": "18b8d043",
   "metadata": {},
   "source": [
    "# Data Science Tools and Ecosystem"
   ]
  },
  {
   "cell_type": "markdown",
   "id": "9cba8b3f",
   "metadata": {},
   "source": [
    "In this notebook, Data Science Tools and Ecosystem are summarized."
   ]
  },
  {
   "cell_type": "markdown",
   "id": "b7002928",
   "metadata": {},
   "source": [
    "**Objectives:**\n",
    "* Popular languages for Data Science\n",
    "* Commonly used libraries used by Data Scientists\n",
    "* Data Science Tools\n",
    "* Examples of evaluating arithmetic expression in Python\n"
   ]
  },
  {
   "cell_type": "markdown",
   "id": "d7dec7b9",
   "metadata": {},
   "source": [
    "Some of the popular languages that Data Scientists use are:\n",
    "    * Python\n",
    "    * R\n",
    "    * Java"
   ]
  },
  {
   "cell_type": "markdown",
   "id": "cc8d8450",
   "metadata": {},
   "source": [
    "Some of the commonly used libraries used by Data Scientists include:\n",
    "    * Numpy\n",
    "    * Panas\n",
    "    * Matplotlib\n",
    "    * ggplot"
   ]
  },
  {
   "cell_type": "markdown",
   "id": "7a23425d",
   "metadata": {},
   "source": [
    "| Data Science Tools |\n",
    "|--------------------|\n",
    "| RStudio |\n",
    "| Apache Spark |\n",
    "| Apache Hadoop |\n"
   ]
  },
  {
   "cell_type": "markdown",
   "id": "267a275a",
   "metadata": {},
   "source": [
    "### Below are a few examples of evaluating arithmetic expressions in Python\n"
   ]
  },
  {
   "cell_type": "code",
   "execution_count": 2,
   "id": "0f10a11d",
   "metadata": {},
   "outputs": [
    {
     "data": {
      "text/plain": [
       "17"
      ]
     },
     "execution_count": 2,
     "metadata": {},
     "output_type": "execute_result"
    }
   ],
   "source": [
    "#This a simple arithmetic expression to mutiply then add integers\n",
    "(3*4)+5"
   ]
  },
  {
   "cell_type": "code",
   "execution_count": 3,
   "id": "5b3533fc",
   "metadata": {},
   "outputs": [
    {
     "data": {
      "text/plain": [
       "3.3333333333333335"
      ]
     },
     "execution_count": 3,
     "metadata": {},
     "output_type": "execute_result"
    }
   ],
   "source": [
    "# This will convert 200 minutes to hours by diving by 60\n",
    "200/60"
   ]
  },
  {
   "cell_type": "markdown",
   "id": "463ebfda",
   "metadata": {},
   "source": [
    "## Author\n",
    "Krzysztof"
   ]
  },
  {
   "cell_type": "code",
   "execution_count": null,
   "id": "aea9e419",
   "metadata": {},
   "outputs": [],
   "source": []
  }
 ],
 "metadata": {
  "kernelspec": {
   "display_name": "Python 3 (ipykernel)",
   "language": "python",
   "name": "python3"
  },
  "language_info": {
   "codemirror_mode": {
    "name": "ipython",
    "version": 3
   },
   "file_extension": ".py",
   "mimetype": "text/x-python",
   "name": "python",
   "nbconvert_exporter": "python",
   "pygments_lexer": "ipython3",
   "version": "3.10.9"
  }
 },
 "nbformat": 4,
 "nbformat_minor": 5
}
